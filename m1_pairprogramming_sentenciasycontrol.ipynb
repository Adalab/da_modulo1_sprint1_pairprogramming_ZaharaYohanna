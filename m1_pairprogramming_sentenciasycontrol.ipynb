{
 "cells": [
  {
   "cell_type": "markdown",
   "metadata": {},
   "source": [
    "Ejercicios if-else"
   ]
  },
  {
   "cell_type": "code",
   "execution_count": 1,
   "metadata": {},
   "outputs": [
    {
     "name": "stdout",
     "output_type": "stream",
     "text": [
      "False\n",
      "True\n",
      "False\n"
     ]
    }
   ],
   "source": [
    "##1.Verificar si un número es positivo, negativo o cero\n",
    "#Descripción: Dado un número, verifica si es positivo, negativo o cero.\n",
    "\n",
    "numero = 18\n",
    "\n",
    "print (numero == 0)\n",
    "print (numero > 0 )\n",
    "print (numero < 0 )"
   ]
  },
  {
   "cell_type": "code",
   "execution_count": 3,
   "metadata": {},
   "outputs": [
    {
     "name": "stdout",
     "output_type": "stream",
     "text": [
      "El número es par\n"
     ]
    }
   ],
   "source": [
    "##2Verificar si un número es par o impar\n",
    "#Descripción: Dado un número, verifica si es par o impar.\n",
    "\n",
    "numero = int(input(\"Ingrese un número: \"))\n",
    "\n",
    "if numero % 2 == 0:\n",
    "    print(\"El número es par\")\n",
    "else:\n",
    "    print(\"El número es impar\")\n",
    "\n",
    "\n"
   ]
  },
  {
   "cell_type": "code",
   "execution_count": 4,
   "metadata": {},
   "outputs": [
    {
     "name": "stdout",
     "output_type": "stream",
     "text": [
      "Has suspendido\n"
     ]
    }
   ],
   "source": [
    "#3.Verificar si un estudiante aprobó o suspendió un examen\n",
    "#Descripción: Dada la calificación de un estudiante en un examen, verifica si aprobó o suspendió (si la calificación es mayor o igual a 60 se considera aprobado).\n",
    "\n",
    "nota_examen = 4\n",
    "\n",
    "if nota_examen > 60 :\n",
    "    print( \"Has aprobado\")\n",
    "\n",
    "else:\n",
    "    print ( \"Has suspendido\")"
   ]
  },
  {
   "cell_type": "code",
   "execution_count": 5,
   "metadata": {},
   "outputs": [
    {
     "name": "stdout",
     "output_type": "stream",
     "text": [
      "Es mayor\n"
     ]
    }
   ],
   "source": [
    "#4.Calcular el máximo entre dos números\n",
    "#Descripción: Dados dos números, encuentra el máximo entre ellos.\n",
    "\n",
    "n1 = 8\n",
    "n2 = 5\n",
    "\n",
    "if n1 > n2 :\n",
    "    print( \"Es mayor\")\n",
    "\n",
    "else:\n",
    "    print( \"Es menor\")"
   ]
  },
  {
   "cell_type": "code",
   "execution_count": 6,
   "metadata": {},
   "outputs": [
    {
     "name": "stdout",
     "output_type": "stream",
     "text": [
      "Es una vocal\n"
     ]
    }
   ],
   "source": [
    "#5.Verificar si una letra es una vocal o una consonante\n",
    "#Descripción: Dada una letra, verifica si es una vocal o una consonante.\n",
    "\n",
    "vocales = (\"a\", \"e\", \"i\", \"o\", \"u\")\n",
    "\n",
    "consonantes = (\"b\", \"c\", \"d\", \"f\", \"g\")\n",
    "\n",
    "if \"a\" in vocales :\n",
    "    print (\"Es una vocal\")\n",
    "\n",
    "else:\n",
    "    print(\"Es una consonante\")"
   ]
  },
  {
   "cell_type": "code",
   "execution_count": 7,
   "metadata": {},
   "outputs": [
    {
     "name": "stdout",
     "output_type": "stream",
     "text": [
      "Tu descuento es de 12.3\n"
     ]
    }
   ],
   "source": [
    "#6.Calcular el descuento en una compra según el monto total\n",
    "#Descripción: Dado el monto total de una compra, calcula el descuento aplicado según las siguientes condiciones: si el monto es mayor o igual a $100, aplica un descuento del 10%; de lo contrario, no aplica ningún descuento.\n",
    "\n",
    "monto_total = 123\n",
    "\n",
    "if monto_total >= 100: \n",
    "    print (\"Tu descuento es de\", (monto_total*0.1))\n",
    "else:\n",
    "    print(\"No tienes descuento\")"
   ]
  },
  {
   "cell_type": "code",
   "execution_count": 9,
   "metadata": {},
   "outputs": [
    {
     "name": "stdout",
     "output_type": "stream",
     "text": [
      "1995 no es un año bisiesto\n"
     ]
    }
   ],
   "source": [
    "#7.Verificar si un año es bisiesto o no\n",
    "#Descripción: Dado un año, verifica si es bisiesto o no (un año es bisiesto si es divisible entre 4, excepto aquellos divisibles entre 100 pero no entre 400).\n",
    "\n",
    "año = int(input(\"Escribe un año: \"))\n",
    "\n",
    "if (año % 4 == 0 and año % 100 != 0) or (año % 400 == 0):\n",
    "    print(f\"{año} es un año bisiesto\")\n",
    "else:\n",
    "    print(f\"{año} no es un año bisiesto\")\n"
   ]
  },
  {
   "cell_type": "code",
   "execution_count": 11,
   "metadata": {},
   "outputs": [
    {
     "name": "stdout",
     "output_type": "stream",
     "text": [
      "Eres adulto mayor\n"
     ]
    }
   ],
   "source": [
    "#8.Asignar una categoría a una edad\n",
    "#Descripción: Dada una edad, asigna una categoría según las siguientes condiciones: si la edad es menor de 18, la categoría es \"Menor de edad\"; si la edad está entre 18 y 64 (incluyendo ambos), la categoría es \"Adulto\"; de lo contrario, la categoría es \"Adulto mayor\".\n",
    "\n",
    "edad = int(input(\"Escribe tu edad: \"))\n",
    "\n",
    "if edad < 18:\n",
    "    print (\"Eres menor de edad\")\n",
    "\n",
    "elif edad >= 18 and edad < 65:\n",
    "    print (\"Eres adulto\")\n",
    "\n",
    "else:\n",
    "    print(\"Eres adulto mayor\")"
   ]
  },
  {
   "cell_type": "code",
   "execution_count": 10,
   "metadata": {},
   "outputs": [
    {
     "name": "stdout",
     "output_type": "stream",
     "text": [
      "Es correcto\n"
     ]
    }
   ],
   "source": [
    "#9.Verificar si tres números forman un triángulo rectángulo\n",
    "#Descripción: Dados tres números, verifica si forman un triángulo rectángulo (si se cumple el teorema de Pitágoras).\n",
    "            \n",
    "c1 = 2\n",
    "c2 = 2\n",
    "h = 8\n",
    "\n",
    "if h == (c1**c1 + c2**c2):\n",
    "    print(\"Es correcto\")\n",
    "\n",
    "else:\n",
    "    print(\"No es correcto\")\n"
   ]
  },
  {
   "cell_type": "code",
   "execution_count": 1,
   "metadata": {},
   "outputs": [
    {
     "name": "stdout",
     "output_type": "stream",
     "text": [
      "La calificación es C.\n"
     ]
    }
   ],
   "source": [
    "#10.Asignar una calificación a una puntuación\n",
    "#Descripción: Dada una puntuación, asigna una calificación según las siguientes condiciones: si la puntuación es mayor o igual a 90, la calificación es \"A\"; si es mayor o igual a 80, la calificación es \"B\"; si es mayor o igual a 70, la calificación es \"C\"; si es mayor o igual a 60, la calificación es \"D\"; de lo contrario, la calificación es \"F\".\n",
    "\n",
    "puntos = int ( input ( \"Dime qué puntuación tiene el alumno y te diré su calificación\" ) )\n",
    "if puntos >= 90 :\n",
    "    calificacion = \"A\"\n",
    "    print ( f\"La calificación es {calificacion}.\" )\n",
    "elif puntos >= 80 :\n",
    "    calificacion = \"B\"\n",
    "    print ( f\"La calificación es {calificacion}.\" )\n",
    "elif puntos >= 70 :\n",
    "    calificacion = \"C\"\n",
    "    print ( f\"La calificación es {calificacion}.\" )\n",
    "elif puntos >= 60 :\n",
    "    calificacion = \"D\"\n",
    "    print ( f\"La calificación es {calificacion}.\" )\n",
    "else :\n",
    "    calificacion = \"F\"\n",
    "    print (f\"La calificación es {calificacion}, has suspendido\")\n"
   ]
  },
  {
   "cell_type": "code",
   "execution_count": 13,
   "metadata": {},
   "outputs": [
    {
     "name": "stdout",
     "output_type": "stream",
     "text": [
      "Tu IMC es 23.243408017070564, y estás en Peso Normal\n"
     ]
    }
   ],
   "source": [
    "#11.Calcular el índice de masa corporal (IMC) y categorizarlo\n",
    "#Descripción: Dados el peso (en kg) y la altura (en metros) de una persona, calcula su IMC y categorízalo según las siguientes condiciones:\n",
    "#si el IMC es menor a 18.5, es \"Bajo peso\"; si está entre 18.5 y 24.9 (inclusive), \n",
    "#es \"Peso normal\"; si está entre 25 y 29.9 (inclusive), \n",
    "#es \"Sobrepeso\"; de lo contrario, es \"Obesidad\".\n",
    "\n",
    "peso = float(input(\"Escribe tu peso (en kg): \"))\n",
    "altura = float(input(\"Escribe tu altura (en m, y las comas en .): \"))\n",
    "\n",
    "imc = peso/(altura * altura)\n",
    "\n",
    "\n",
    "if imc < 18.5:\n",
    "    print(f\"Tu IMC es {imc}, y estás en Bajo Peso\")\n",
    "\n",
    "elif imc >= 18.5 and imc <= 24.9:\n",
    "    print(f\"Tu IMC es {imc}, y estás en Peso Normal\")\n",
    "\n",
    "elif imc > 25 and imc <= 29.9:\n",
    "    print(f\"Tu IMC es {imc}, y estás en Sobrepeso\")\n",
    "\n",
    "else:\n",
    "    imc > 30\n",
    "    print(f\"Tu IMC es {imc}, y estás en Obesidad\")\n"
   ]
  },
  {
   "cell_type": "code",
   "execution_count": null,
   "metadata": {},
   "outputs": [],
   "source": [
    "#12.Calcular el mayor de tres números\n",
    "#Descripción: Dados tres números, encuentra el mayor entre ellos.\n",
    "\n",
    "numeros = [ 12, 56, 87 ]\n",
    "numero_mayor = max(numeros)\n",
    "print ( numero_mayor)"
   ]
  },
  {
   "cell_type": "code",
   "execution_count": 15,
   "metadata": {},
   "outputs": [
    {
     "name": "stdout",
     "output_type": "stream",
     "text": [
      "La fecha ingresada no es válida.\n"
     ]
    }
   ],
   "source": [
    "#13. BONUS sentencias de control: Verificar la validez de una fecha\n",
    "#Descripción: Dados el día, el mes y el año de una fecha, verifica si la fecha es válida.\n",
    "\n",
    "# Pedir al usuario que ingrese la fecha\n",
    "dia = int(input(\"Escriba el día: \"))\n",
    "mes = int(input(\"Escriba el mes: \"))\n",
    "año = int(input(\"Escriba el año: \"))\n",
    "\n",
    "# Verificar si el año es bisiesto\n",
    "es_bisiesto = (año % 4 == 0 and año % 100 != 0) or (año % 400 == 0)\n",
    "\n",
    "# Definir la cantidad de días en cada mes\n",
    "dias_por_mes = {\n",
    "    1: 31,  # Enero\n",
    "    2: 29 if es_bisiesto else 28,  # Febrero\n",
    "    3: 31,  # Marzo\n",
    "    4: 30,  # Abril\n",
    "    5: 31,  # Mayo\n",
    "    6: 30,  # Junio\n",
    "    7: 31,  # Julio\n",
    "    8: 31,  # Agosto\n",
    "    9: 30,  # Septiembre\n",
    "    10: 31,  # Octubre\n",
    "    11: 30,  # Noviembre\n",
    "    12: 31  # Diciembre\n",
    "}\n",
    "\n",
    "# Verificar si el mes y día están dentro de los límites\n",
    "if mes < 1 or mes > 12 or dia < 1 or dia > dias_por_mes[mes]:\n",
    "    print(\"La fecha ingresada no es válida.\")\n",
    "else:\n",
    "    print(\"La fecha ingresada es válida.\")\n"
   ]
  },
  {
   "cell_type": "markdown",
   "metadata": {},
   "source": [
    "Ejercicios while"
   ]
  },
  {
   "cell_type": "code",
   "execution_count": 16,
   "metadata": {},
   "outputs": [
    {
     "name": "stdout",
     "output_type": "stream",
     "text": [
      "La suma es 1\n",
      "La suma es 2\n",
      "La suma es 3\n",
      "La suma es 4\n",
      "La suma es 5\n",
      "La suma es 6\n",
      "La suma es 7\n",
      "La suma es 8\n",
      "La suma es 9\n"
     ]
    }
   ],
   "source": [
    "#1. Calcular la suma de los primeros 10 números naturales utilizando un bucle while\n",
    "#Descripción: Utiliza un bucle while para calcular la suma de los primeros 10 números naturales (1 + 2 + 3 + ... + 10).\n",
    "\n",
    "limite_suma = 10\n",
    "\n",
    "numero = 1\n",
    "\n",
    "while numero < limite_suma:\n",
    "    print(f\"La suma es {numero}\")\n",
    "\n",
    "    numero += 1"
   ]
  },
  {
   "cell_type": "code",
   "execution_count": null,
   "metadata": {},
   "outputs": [],
   "source": [
    "#2. Juego de adivinanza utilizando un bucle while\n",
    "#   Descripción: Crea un juego de adivinanza en el que el jugador tiene que adivinar un número secreto (tendrá que ser entre el 0 y el 10).\n",
    "#   Utiliza un bucle while para permitir múltiples intentos hasta que el jugador adivine correctamente.\n",
    "# Establecemos condiciones\n",
    "\n",
    "\n",
    "import random\n",
    "numero_random = random.randint ( 0, 10 )\n",
    "# Presentación\n",
    "nombre_jugador = input (\"¿Cómo te llamas?\")\n",
    "numero_jugador = int ( input ( f\"Hola, {nombre_jugador}, adivina mi número secreto. Elige un número que esté entre 0 y 10\" ))\n",
    "while numero_random != numero_jugador :\n",
    "    print ( f\"Has elegido {numero_jugador} pero pero no has adivinado el número secreto. Inténtalo de nuevo.\")\n",
    "    numero_jugador = int ( input ( \"Elige un número que esté entre 0 y 10\" ) )\n",
    "else :\n",
    "    print ( f\"El número secreto era {numero_random} así que lo has adivinado ¡Enhorabuena! \\U0001F600 \")"
   ]
  }
 ],
 "metadata": {
  "kernelspec": {
   "display_name": "Python 3",
   "language": "python",
   "name": "python3"
  },
  "language_info": {
   "codemirror_mode": {
    "name": "ipython",
    "version": 3
   },
   "file_extension": ".py",
   "mimetype": "text/x-python",
   "name": "python",
   "nbconvert_exporter": "python",
   "pygments_lexer": "ipython3",
   "version": "3.9.6"
  }
 },
 "nbformat": 4,
 "nbformat_minor": 2
}
