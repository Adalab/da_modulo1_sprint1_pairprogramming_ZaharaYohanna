{
 "cells": [
  {
   "cell_type": "code",
   "execution_count": 9,
   "metadata": {},
   "outputs": [
    {
     "name": "stdout",
     "output_type": "stream",
     "text": [
      "[2, 4, 6, 8, 2, 4, 6, 8]\n"
     ]
    }
   ],
   "source": [
    "#1. Duplicar elementos de una lista\n",
    "# dada la siguiente lista el output esperado es:\n",
    "lista = [2, 4, 6, 8]\n",
    "\n",
    "lista.extend(lista)\n",
    "\n",
    "print(lista)\n",
    "\n"
   ]
  },
  {
   "cell_type": "code",
   "execution_count": 10,
   "metadata": {},
   "outputs": [
    {
     "name": "stdout",
     "output_type": "stream",
     "text": [
      "[1, 2, 3, 4, 5, 6]\n"
     ]
    }
   ],
   "source": [
    "#2. combinar dos listas\n",
    "\n",
    "# dadas las siguientes listas el output esperado es:\n",
    "lista1 = [1, 2, 3]\n",
    "lista2 = [4, 5, 6]\n",
    "\n",
    "lista1.extend(lista2)\n",
    "print(lista1)"
   ]
  },
  {
   "cell_type": "code",
   "execution_count": 11,
   "metadata": {},
   "outputs": [
    {
     "name": "stdout",
     "output_type": "stream",
     "text": [
      "6\n"
     ]
    }
   ],
   "source": [
    "#3. Calcular la suma de una lista de números\n",
    "##Descripción: Dada una lista de números, calcula la suma de todos los elementos.\n",
    "\n",
    "lista1= [1,2,3]\n",
    "\n",
    "lista_final = sum(lista1)\n",
    "\n",
    "print(lista_final)"
   ]
  },
  {
   "cell_type": "code",
   "execution_count": 12,
   "metadata": {},
   "outputs": [
    {
     "name": "stdout",
     "output_type": "stream",
     "text": [
      "8\n"
     ]
    }
   ],
   "source": [
    "#4. Encontrar el valor máximo en una lista\n",
    "##Descripción: Dada una lista de números, encuentra el valor máximo.\n",
    "\n",
    "max(lista)\n",
    "print(max(lista))"
   ]
  },
  {
   "cell_type": "code",
   "execution_count": 13,
   "metadata": {},
   "outputs": [
    {
     "name": "stdout",
     "output_type": "stream",
     "text": [
      "8\n"
     ]
    }
   ],
   "source": [
    "#5. Calcular la longitud de una lista\n",
    "##Descripción: Dada una lista, calcula la cantidad de elementos que contiene.\n",
    "\n",
    "len(lista)\n",
    "print(len(lista))"
   ]
  },
  {
   "cell_type": "code",
   "execution_count": 14,
   "metadata": {},
   "outputs": [
    {
     "name": "stdout",
     "output_type": "stream",
     "text": [
      "2\n"
     ]
    }
   ],
   "source": [
    "#6. Encontrar el índice de un elemento en una lista\n",
    "##Descripción: Dada una lista y un valor objetivo, encuentra el índice del primer elemento que coincida con el valor objetivo\n",
    "\n",
    "lista.index(6)\n",
    "print(lista.index(6))"
   ]
  },
  {
   "cell_type": "code",
   "execution_count": 15,
   "metadata": {},
   "outputs": [
    {
     "name": "stdout",
     "output_type": "stream",
     "text": [
      "2\n"
     ]
    }
   ],
   "source": [
    "#7. Contar ocurrencias de un elemento en una lista\n",
    "##Descripción: Dada una lista y un valor objetivo, cuenta cuántas veces aparece el valor objetivo en la lista.\n",
    "\n",
    "lista_nueva = [2,5,6,6,8,12,15]\n",
    "\n",
    "print(lista_nueva.count(6))"
   ]
  },
  {
   "cell_type": "code",
   "execution_count": 16,
   "metadata": {},
   "outputs": [
    {
     "name": "stdout",
     "output_type": "stream",
     "text": [
      "[1, 7, 6]\n"
     ]
    }
   ],
   "source": [
    "#8. Obtener una sublista de una lista\n",
    "#Descripción: Dada una lista, crea una nueva lista que contenga los elementos desde el índice 2 hasta el índice 5 (sin incluirlo).\n",
    "\n",
    "lista_nueva2 = [3,5,1,7,6,8,9,2,4]\n",
    "print(lista_nueva2[2:5:])"
   ]
  },
  {
   "cell_type": "code",
   "execution_count": 17,
   "metadata": {},
   "outputs": [
    {
     "name": "stdout",
     "output_type": "stream",
     "text": [
      "4\n"
     ]
    }
   ],
   "source": [
    "#9. Obtener el último elemento de una lista\n",
    "##Descripción: Dada una lista, obtén el último elemento\n",
    "\n",
    "print(lista_nueva2[-1])"
   ]
  },
  {
   "cell_type": "code",
   "execution_count": 18,
   "metadata": {},
   "outputs": [
    {
     "data": {
      "text/plain": [
       "4"
      ]
     },
     "execution_count": 18,
     "metadata": {},
     "output_type": "execute_result"
    }
   ],
   "source": [
    "#10. Obtener el último elemento de una lista\n",
    "##Descripción: Dada una lista, obtén el último elemento.\n",
    "\n",
    "lista_nueva2[len(lista_nueva2) - 1]"
   ]
  },
  {
   "cell_type": "code",
   "execution_count": 19,
   "metadata": {},
   "outputs": [
    {
     "name": "stdout",
     "output_type": "stream",
     "text": [
      "[5, 1]\n"
     ]
    }
   ],
   "source": [
    "#11. Obtener una sublista de una lista\n",
    "#Descripción: Dada una lista, obtén una sublista que contenga los elementos desde el índice 1 hasta el índice 3 (sin incluirlo).\n",
    "\n",
    "lista_nueva2 = [3,5,1,7,6,8,9,2,4]\n",
    "print(lista_nueva2[1:3:])"
   ]
  },
  {
   "cell_type": "code",
   "execution_count": 42,
   "metadata": {},
   "outputs": [
    {
     "name": "stdout",
     "output_type": "stream",
     "text": [
      "['papas', 'pan', 'queso', 'aguacates', 'manzanas']\n",
      "['platanos', 'papas', 'pan', 'queso', 'aguacates', 'manzanas']\n"
     ]
    }
   ],
   "source": [
    "#12. Reemplazar un elemento en una lista\n",
    "#Descripción: Dada una lista, reemplaza el segundo elemento con un nuevo valor.\n",
    "\n",
    "lista_compra = [\"tomates\",\"papas\",\"pan\",\"queso\",\"aguacates\",\"manzanas\"]\n",
    "lista_compra.remove(\"tomates\")\n",
    "print(lista_compra)\n",
    "lista_compra.insert(0,\"platanos\")\n",
    "print(lista_compra)"
   ]
  },
  {
   "cell_type": "code",
   "execution_count": 56,
   "metadata": {},
   "outputs": [
    {
     "name": "stdout",
     "output_type": "stream",
     "text": [
      "['tomates', 'papas', 'pan', 'queso', 'aguacates', 'manzanas', 'naranjas', 'platanos']\n",
      "['aguacates', 'manzanas', 'naranjas', 'pan', 'papas', 'platanos', 'queso', 'tomates']\n",
      "['tomates', 'queso', 'platanos', 'papas', 'pan', 'naranjas', 'manzanas', 'aguacates']\n"
     ]
    }
   ],
   "source": [
    "#13. Obtener una lista inversa\n",
    "#Descripción: Dada una lista, obtén una nueva lista que contenga los elementos en orden inverso.\n",
    "\n",
    "lista_compra2 = [\"tomates\", \"papas\", \"pan\", \"queso\", \"aguacates\", \"manzanas\", \"naranjas\", \"platanos\"]\n",
    "print(lista_compra2)\n",
    "lista_compra2.sort()\n",
    "print(lista_compra2)\n",
    "lista_compra2.reverse()\n",
    "print(lista_compra2)\n"
   ]
  },
  {
   "cell_type": "code",
   "execution_count": 59,
   "metadata": {},
   "outputs": [
    {
     "name": "stdout",
     "output_type": "stream",
     "text": [
      "[21, 32, 45, 84, 85, 51, 55, 77, 78]\n",
      "La lista en orden ascendente es  [21, 32, 45, 51, 55, 77, 78, 84, 85]\n"
     ]
    }
   ],
   "source": [
    "#14. Ordenar una lista en orden ascendente\n",
    "#Descripción: Dada una lista de números, ordénala en orden ascendente.\n",
    "\n",
    "lista_numeros = [21, 32, 45, 84, 85, 51, 55, 77, 78]\n",
    "print(lista_numeros)\n",
    "lista_numeros.sort()\n",
    "print(\"La lista en orden ascendente es \", lista_numeros)\n"
   ]
  },
  {
   "cell_type": "code",
   "execution_count": 63,
   "metadata": {},
   "outputs": [
    {
     "name": "stdout",
     "output_type": "stream",
     "text": [
      "['tomates', 'pan', 'aguacates', 'naranjas']\n",
      "['tomates', 'pan', 'aguacates', 'naranjas']\n"
     ]
    }
   ],
   "source": [
    "#15. Obtener elementos pares de una lista\n",
    "#Descripción: Dada una lista, obtén una nueva lista que contenga solo los elementos en posiciones pares.\n",
    "lista_15 = [\"tomates\", \"papas\", \"pan\", \"queso\", \"aguacates\", \"manzanas\", \"naranjas\", \"platanos\"]\n",
    "lista_15b = lista_15[::2]\n",
    "print(lista_15b)\n"
   ]
  },
  {
   "cell_type": "code",
   "execution_count": 65,
   "metadata": {},
   "outputs": [
    {
     "name": "stdout",
     "output_type": "stream",
     "text": [
      "['tomates', 'queso', 'naranjas']\n"
     ]
    }
   ],
   "source": [
    "#16. Obtener una sublista saltando elementos\n",
    "#Descripción: Dada una lista, obtén una sublista que contenga los elementos saltando de 3 en 3.\n",
    "\n",
    "lista_16 = [\"tomates\", \"papas\", \"pan\", \"queso\", \"aguacates\", \"manzanas\", \"naranjas\", \"platanos\"]\n",
    "lista_16b= lista_16 [::3]\n",
    "print(lista_16b)"
   ]
  },
  {
   "cell_type": "code",
   "execution_count": 67,
   "metadata": {},
   "outputs": [
    {
     "data": {
      "text/plain": [
       "84"
      ]
     },
     "execution_count": 67,
     "metadata": {},
     "output_type": "execute_result"
    }
   ],
   "source": [
    "#17. Encontrar el segundo valor máximo en una lista\n",
    "#Descripción: Dada una lista de números, encuentra el segundo valor máximo.\n",
    "\n",
    "lista_17 = [21, 32, 45, 84, 85, 51, 55, 77, 78]\n",
    "lista_17.sort()\n",
    "lista_17[len(lista_17)-2]\n",
    "\n"
   ]
  },
  {
   "cell_type": "code",
   "execution_count": 26,
   "metadata": {},
   "outputs": [],
   "source": [
    "#18. Teórico. Debereis contestar la pregunta en una celda de markdown.\n",
    "#Descripción: ¿Qué diferencia existe entre el .sort() y el sorted()\n",
    "\n",
    "#.sort() sobreescribe en la lista, es decir, guarda los cambios. \n",
    "#.sorted() muestra la lista ordenada pero la mantiene como estaba para siguientes usos.\n"
   ]
  },
  {
   "cell_type": "code",
   "execution_count": 75,
   "metadata": {},
   "outputs": [
    {
     "name": "stdout",
     "output_type": "stream",
     "text": [
      "['Francisco', 'Norberto', 'Juan', 'Pablo', 'Alberto', ['Julio', 'Jacobo']]\n",
      "['Francisco', 'Norberto', 'Juan', 'Pablo', 'Alberto', 'Julio', 'Jacobo']\n"
     ]
    }
   ],
   "source": [
    "#19. Agregar elementos a una lista utilizando append y extend\n",
    "#escripción: Dada una lista inicial, agrega nuevos elementos utilizando tanto append como extend y observa las diferencias en el resultado final. El elemento que deberéis usar para añadir a la lista original tiene que ser una lista.\n",
    "\n",
    "lista_19a = [\"Francisco\", \"Norberto\", \"Juan\", \"Pablo\", \"Alberto\" ]\n",
    "lista_19b = [\"Julio\", \"Jacobo\"]\n",
    "lista_19a.append(lista_19b)\n",
    "print(lista_19a)\n",
    "#añade una lista dentro de la lista\n",
    "\n",
    "\n",
    "lista_19_1 = [\"Francisco\", \"Norberto\", \"Juan\", \"Pablo\", \"Alberto\" ]\n",
    "lista_19_2 = [\"Julio\", \"Jacobo\"]\n",
    "lista_19_1.extend(lista_19_2)\n",
    "print(lista_19_1)\n",
    "#añade los nuevos elementos a la lista original\n",
    "\n"
   ]
  },
  {
   "cell_type": "code",
   "execution_count": 8,
   "metadata": {},
   "outputs": [
    {
     "name": "stdout",
     "output_type": "stream",
     "text": [
      "['jabon', 'tomates', 'papas', 'pan', 'queso', 'aguacates', 'manzanas', 'naranjas', 'platanos']\n"
     ]
    }
   ],
   "source": [
    "#20. Insertar un elemento en una posición específica\n",
    "#Descripción: Dada una lista, inserta un nuevo elemento en una posición específica determinada por el usuario (debereis usar la función input para preguntar al usuario en que posición quiere insertar el elemento).\n",
    "\n",
    "lista_20 = [\"tomates\", \"papas\", \"pan\", \"queso\", \"aguacates\", \"manzanas\", \"naranjas\", \"platanos\"]\n",
    "posicion = input(\"¿En qué posición deseas añadir el siguiente elemento?\")\n",
    "posicion = int()\n",
    "producto = input(\"¿Qué producto deseas añadir?\")\n",
    "lista_20.insert(posicion, producto)\n",
    "print(lista_20)\n",
    "\n"
   ]
  },
  {
   "cell_type": "code",
   "execution_count": 18,
   "metadata": {},
   "outputs": [
    {
     "name": "stdout",
     "output_type": "stream",
     "text": [
      "['jabon', 'tomates', 'papas', 'queso', 'aguacates', 'manzanas', 'naranjas', 'platanos']\n"
     ]
    },
    {
     "data": {
      "text/plain": [
       "False"
      ]
     },
     "execution_count": 18,
     "metadata": {},
     "output_type": "execute_result"
    }
   ],
   "source": [
    "#21. Verificar si un elemento está presente en una lista\n",
    "#Descripción: Dada una lista, verifica si un elemento específico está presente en ella. Igual que el caso anterior, debereis preguntar al usuario que elemento quiere buscar en la lista. El resultado deberá ser True o False.\n",
    "\n",
    "print(lista_20)\n",
    "producto_buscado = input (\"Qué producto quieres saber si has apuntado\")\n",
    "producto_buscado in lista_20\n"
   ]
  },
  {
   "cell_type": "code",
   "execution_count": 24,
   "metadata": {},
   "outputs": [
    {
     "name": "stdout",
     "output_type": "stream",
     "text": [
      "['tomates', 'papas', 'pan', 'queso', 'aguacates', 'manzanas', 'naranjas', 'platanos']\n",
      "['tomates', 'papas', 'queso', 'aguacates', 'manzanas', 'naranjas', 'platanos']\n",
      "['tomates', 'papas', 'queso', 'aguacates', 'manzanas', 'naranjas']\n",
      "[]\n"
     ]
    }
   ],
   "source": [
    "#22. Manipulación de una lista utilizando remove(), pop() y clear()\n",
    "#Descripción: Crea una lista inicial, realiza operaciones de eliminación y limpieza utilizando los métodos remove(), pop() y clear(), y observa cómo afectan a la lista.\n",
    "lista_22 = [\"tomates\", \"papas\", \"pan\", \"queso\", \"aguacates\", \"manzanas\", \"naranjas\", \"platanos\"]\n",
    "print(lista_22)\n",
    "lista_22.remove(\"pan\")\n",
    "print(lista_22)\n",
    "lista_22.pop()\n",
    "print(lista_22)\n",
    "lista_22.clear()\n",
    "print(lista_22)"
   ]
  },
  {
   "cell_type": "markdown",
   "metadata": {},
   "source": [
    "Ejercicios de tuplas"
   ]
  },
  {
   "cell_type": "code",
   "execution_count": 31,
   "metadata": {},
   "outputs": [],
   "source": [
    "#1. Acceder al primer elemento de una tupla\n",
    "#Descripción: Dada una tupla, obtén el primer elemento.\n",
    "\n",
    "\n"
   ]
  },
  {
   "cell_type": "code",
   "execution_count": 32,
   "metadata": {},
   "outputs": [],
   "source": [
    "#2. Acceder al último elemento de una tupla\n",
    "#Descripción: Dada una tupla, obtén el último elemento.\n",
    "\n",
    "\n"
   ]
  },
  {
   "cell_type": "code",
   "execution_count": 33,
   "metadata": {},
   "outputs": [],
   "source": [
    "#3. Obtener la longitud de una tupla\n",
    "#Descripción: Dada una tupla, obtén la cantidad de elementos que contiene.\n",
    "\n",
    "\n"
   ]
  },
  {
   "cell_type": "code",
   "execution_count": 34,
   "metadata": {},
   "outputs": [],
   "source": [
    "#4. Concatenar dos tuplas\n",
    "#Descripción: Dadas dos tuplas, crea una nueva tupla que contenga todos los elementos de ambas tuplas.\n",
    "\n",
    "\n"
   ]
  },
  {
   "cell_type": "code",
   "execution_count": 35,
   "metadata": {},
   "outputs": [],
   "source": [
    "#5. Encontrar el índice de un elemento en una tupla\n",
    "#Descripción: Dada una tupla y un valor objetivo, encuentra el índice del primer elemento que coincida con el valor objetivo.\n",
    "\n",
    "\n"
   ]
  },
  {
   "cell_type": "code",
   "execution_count": 36,
   "metadata": {},
   "outputs": [],
   "source": [
    "#6. Contar ocurrencias de un elemento en una tupla\n",
    "#Descripción: Dada una tupla y un valor objetivo, cuenta cuántas veces aparece el valor objetivo en la tupla.\n",
    "\n",
    "\n"
   ]
  },
  {
   "cell_type": "code",
   "execution_count": 37,
   "metadata": {},
   "outputs": [],
   "source": [
    "#7. Obtener una subtuple de una tupla\n",
    "#Descripción: Dada una tupla, crea una nueva tupla que contenga los elementos desde el índice 1 hasta el índice 3 (sin incluirlo).  \n",
    "\n",
    "\n"
   ]
  },
  {
   "cell_type": "code",
   "execution_count": 38,
   "metadata": {},
   "outputs": [],
   "source": [
    "#8. Invertir una tupla\n",
    "#Descripción: Dada una tupla, inviértela en orden.\n",
    "\n",
    "\n"
   ]
  }
 ],
 "metadata": {
  "kernelspec": {
   "display_name": "Python 3",
   "language": "python",
   "name": "python3"
  },
  "language_info": {
   "codemirror_mode": {
    "name": "ipython",
    "version": 3
   },
   "file_extension": ".py",
   "mimetype": "text/x-python",
   "name": "python",
   "nbconvert_exporter": "python",
   "pygments_lexer": "ipython3",
   "version": "3.9.7"
  }
 },
 "nbformat": 4,
 "nbformat_minor": 2
}
