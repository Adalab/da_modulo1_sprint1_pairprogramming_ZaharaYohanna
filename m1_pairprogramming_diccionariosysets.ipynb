{
 "cells": [
  {
   "cell_type": "markdown",
   "metadata": {},
   "source": [
    "# Pair Programming Diccionarios y Sets"
   ]
  },
  {
   "cell_type": "markdown",
   "metadata": {},
   "source": [
    "Ejercicios diccionarios"
   ]
  },
  {
   "cell_type": "code",
   "execution_count": 2,
   "metadata": {},
   "outputs": [],
   "source": [
    "#1. Crear un diccionario vacío\n",
    "#Descripción: Crea un diccionario vacío sin ningún par clave-valor.\n",
    "\n",
    "diccionario = { }\n",
    "\n"
   ]
  },
  {
   "cell_type": "code",
   "execution_count": 3,
   "metadata": {},
   "outputs": [
    {
     "name": "stdout",
     "output_type": "stream",
     "text": [
      "{'lunes': 26, 'martes': 25, 'miercoles': 28, 'jueves': 27, 'viernes': 28}\n"
     ]
    }
   ],
   "source": [
    "#2. Crear un diccionario con elementos\n",
    "#Descripción: Crea un diccionario con pares clave-valor predefinidos. Definir el diccionario con las claves y valores que querais. \n",
    "#NOTA El diccionario debe tener al menos 5 pares de clave:valor.\n",
    "\n",
    "diccionario = { \"lunes\" : 26, \"martes\" : 25, \"miercoles\" : 28, \"jueves\" : 27, \"viernes\" : 28 }\n",
    "print(diccionario)\n"
   ]
  },
  {
   "cell_type": "code",
   "execution_count": 4,
   "metadata": {},
   "outputs": [
    {
     "data": {
      "text/plain": [
       "28"
      ]
     },
     "execution_count": 4,
     "metadata": {},
     "output_type": "execute_result"
    }
   ],
   "source": [
    "#3. Acceder al valor de una clave en un diccionario\n",
    "#Descripción: Usando el diccionario creado en el paso anterior, obtén el valor correspondiente a una clave específica que indique el usuario \n",
    "# (debereis usar la función input() para preguntar al usuario).\n",
    "diccionario.get(input())\n",
    "\n"
   ]
  },
  {
   "cell_type": "code",
   "execution_count": 5,
   "metadata": {},
   "outputs": [
    {
     "name": "stdout",
     "output_type": "stream",
     "text": [
      "{'lunes': 26, 'martes': 25, 'miercoles': 28, 'jueves': 27, 'viernes': 28, 'sabado': 29}\n"
     ]
    }
   ],
   "source": [
    "#4. Agregar un nuevo par clave-valor a un diccionario\n",
    "#Descripción: Usando el diccionario creado en el ejercicio 2, agrega un nuevo par clave-valor.\n",
    "nuevo_elemento = { \"sabado\" : 29 }\n",
    "diccionario.update(nuevo_elemento)\n",
    "print(diccionario)\n"
   ]
  },
  {
   "cell_type": "code",
   "execution_count": 6,
   "metadata": {},
   "outputs": [
    {
     "name": "stdout",
     "output_type": "stream",
     "text": [
      "{'lunes': 27, 'martes': 25, 'miercoles': 28, 'jueves': 27, 'viernes': 28, 'sabado': 29}\n"
     ]
    }
   ],
   "source": [
    "#5. Actualizar el valor de una clave en un diccionario\n",
    "#Descripción: Usando el diccionario creado en el ejercicio 2, actualiza el valor correspondiente a una clave existente. Ejemplo:\n",
    "# dado el siguiente diccionario\n",
    "#{'nombre': 'Ana', 'edad': 25, 'ciudad': 'Madrid', 'hijos': 1}\n",
    "\n",
    "# el ouptut esperado es: (ha cambiado el valor de la clave edad)\n",
    "#{'nombre': 'Ana', 'edad': 40, 'ciudad': 'Madrid', 'hijos': 1}\n",
    "\n",
    "nuevo_lunes = { \"lunes\" : 27}\n",
    "diccionario.update(nuevo_lunes)\n",
    "print(diccionario)\n"
   ]
  },
  {
   "cell_type": "code",
   "execution_count": 29,
   "metadata": {},
   "outputs": [
    {
     "data": {
      "text/plain": [
       "28"
      ]
     },
     "execution_count": 29,
     "metadata": {},
     "output_type": "execute_result"
    }
   ],
   "source": [
    "#6. Eliminar un par clave-valor de un diccionario\n",
    "#Descripción: Usando el diccionario creado en el ejercicio 2, elimina un par clave-valor específico que indique el usuario (debereis usar la función input() \n",
    "#para preguntar al usuario).\n",
    "\n",
    "diccionario.pop(input())\n"
   ]
  },
  {
   "cell_type": "code",
   "execution_count": 7,
   "metadata": {},
   "outputs": [
    {
     "name": "stdout",
     "output_type": "stream",
     "text": [
      "{'lunes': 27, 'martes': 25, 'miercoles': 28, 'jueves': 27, 'viernes': 28, 'sabado': 29}\n"
     ]
    }
   ],
   "source": [
    "print(diccionario)"
   ]
  },
  {
   "cell_type": "code",
   "execution_count": 31,
   "metadata": {},
   "outputs": [
    {
     "data": {
      "text/plain": [
       "True"
      ]
     },
     "execution_count": 31,
     "metadata": {},
     "output_type": "execute_result"
    }
   ],
   "source": [
    "#7. Verificar si una clave está presente en un diccionario\n",
    "#Descripción: Usando el diccionario creado en el ejercicio 2, verifica si una clave específica está presente en él. \n",
    "#La clave a buscar debe ser pasada por el usuario, debereis usar un input().\n",
    "\n",
    "input () in diccionario\n",
    "\n"
   ]
  },
  {
   "cell_type": "code",
   "execution_count": 8,
   "metadata": {},
   "outputs": [
    {
     "data": {
      "text/plain": [
       "dict_keys(['lunes', 'martes', 'miercoles', 'jueves', 'viernes', 'sabado'])"
      ]
     },
     "execution_count": 8,
     "metadata": {},
     "output_type": "execute_result"
    }
   ],
   "source": [
    "#8. Obtener una lista de todas las claves de un diccionario\n",
    "#Descripción: Usando el diccionario creado en el ejercicio 2, obtén una lista con todas las claves que contiene.\n",
    "\n",
    "diccionario.keys ()\n"
   ]
  },
  {
   "cell_type": "code",
   "execution_count": 9,
   "metadata": {},
   "outputs": [
    {
     "data": {
      "text/plain": [
       "dict_values([27, 25, 28, 27, 28, 29])"
      ]
     },
     "execution_count": 9,
     "metadata": {},
     "output_type": "execute_result"
    }
   ],
   "source": [
    "#9. Obtener una lista de todos los valores de un diccionario\n",
    "#Descripción: Usando el diccionario creado en el ejercicio 2, obtén una lista con todos los valores que contiene.\n",
    "\n",
    "diccionario.values()\n"
   ]
  },
  {
   "cell_type": "code",
   "execution_count": 10,
   "metadata": {},
   "outputs": [
    {
     "name": "stdout",
     "output_type": "stream",
     "text": [
      "{'lunes': 27, 'martes': 25, 'miercoles': 28, 'jueves': 27, 'viernes': 28, 'sabado': 29}\n"
     ]
    }
   ],
   "source": [
    "#10. Utilizar el método setdefault() para establecer un valor predeterminado si la clave no existe\n",
    "#Descripción: Usando el diccionario creado en el ejercicio 2, obten el valor correspondiente a una clave. \n",
    "#Si la clave no existe, establece un valor predeterminado y devuelve dicho valor.\n",
    "\n",
    "diccionario.setdefault(\"miercoles\", 27)\n",
    "print(diccionario)\n",
    "\n"
   ]
  },
  {
   "cell_type": "code",
   "execution_count": 11,
   "metadata": {},
   "outputs": [
    {
     "data": {
      "text/plain": [
       "27"
      ]
     },
     "execution_count": 11,
     "metadata": {},
     "output_type": "execute_result"
    }
   ],
   "source": [
    "#11. Manipulación de un diccionario utilizando pop() y popitem()\n",
    "#Descripción: Usando el diccionario creado en el ejercicio 2, realiza operaciones de eliminación utilizando pop() y popitem(), \n",
    "#y observa cómo afectan al diccionario.\n",
    "\n",
    "diccionario.pop(\"lunes\")\n"
   ]
  },
  {
   "cell_type": "code",
   "execution_count": 12,
   "metadata": {},
   "outputs": [
    {
     "name": "stdout",
     "output_type": "stream",
     "text": [
      "{'martes': 25, 'miercoles': 28, 'jueves': 27, 'viernes': 28, 'sabado': 29}\n"
     ]
    }
   ],
   "source": [
    "print(diccionario)"
   ]
  },
  {
   "cell_type": "code",
   "execution_count": 13,
   "metadata": {},
   "outputs": [
    {
     "data": {
      "text/plain": [
       "('sabado', 29)"
      ]
     },
     "execution_count": 13,
     "metadata": {},
     "output_type": "execute_result"
    }
   ],
   "source": [
    "diccionario.popitem()"
   ]
  },
  {
   "cell_type": "code",
   "execution_count": 14,
   "metadata": {},
   "outputs": [
    {
     "name": "stdout",
     "output_type": "stream",
     "text": [
      "{'martes': 25, 'miercoles': 28, 'jueves': 27, 'viernes': 28}\n"
     ]
    }
   ],
   "source": [
    "print(diccionario)"
   ]
  },
  {
   "cell_type": "markdown",
   "metadata": {},
   "source": [
    "Ejercicios sets"
   ]
  },
  {
   "cell_type": "code",
   "execution_count": 15,
   "metadata": {},
   "outputs": [],
   "source": [
    "#1. Crear un conjunto vacío\n",
    "#Descripción: Crea un conjunto vacío sin ningún elemento.\n",
    "\n",
    "set1 = { }\n"
   ]
  },
  {
   "cell_type": "code",
   "execution_count": 40,
   "metadata": {},
   "outputs": [
    {
     "name": "stdout",
     "output_type": "stream",
     "text": [
      "{'Cadiz', 'Toledo', 'Bizcaia', 'Burgos', 'Cáceres', 'Madrid', 'Las Palmas'}\n"
     ]
    }
   ],
   "source": [
    "#2. Crear un conjunto con elementos\n",
    "#Descripción: Crea un conjunto con elementos predefinidos.\n",
    "\n",
    "provincias = { \"Burgos\", \"Cadiz\", \"Cáceres\", \"Bizcaia\", \"Madrid\", \"Toledo\", \"Las Palmas\"}\n",
    "print(provincias)\n"
   ]
  },
  {
   "cell_type": "code",
   "execution_count": 41,
   "metadata": {},
   "outputs": [
    {
     "name": "stdout",
     "output_type": "stream",
     "text": [
      "{'Cadiz', 'Toledo', 'Bizcaia', 'Murcia', 'Burgos', 'Cáceres', 'Madrid', 'Las Palmas'}\n"
     ]
    }
   ],
   "source": [
    "#3. Agregar elementos a un conjunto\n",
    "#Descripción: Usando el set creado en el ejercicio 2, agrega nuevos elementos. Debereis agregar por separado:\n",
    "    #Un elemento solo\n",
    "    #Un par de elementos a la vez.\n",
    "\n",
    "\n",
    "provincias3= provincias.copy()\n",
    "provincias3.add(\"Murcia\")\n",
    "print(provincias3)"
   ]
  },
  {
   "cell_type": "code",
   "execution_count": 42,
   "metadata": {},
   "outputs": [
    {
     "name": "stdout",
     "output_type": "stream",
     "text": [
      "{'Toledo', 'Cáceres', 'Bizcaia', 'Girona', 'Cadiz', 'Murcia', 'Burgos', 'Las Palmas', 'Madrid', 'Valencia'}\n"
     ]
    }
   ],
   "source": [
    "provincias_nuevas = [\"Valencia\",\"Girona\"]\n",
    "provincias3.update(provincias_nuevas)\n",
    "print(provincias3)"
   ]
  },
  {
   "cell_type": "code",
   "execution_count": 43,
   "metadata": {},
   "outputs": [],
   "source": [
    "#4. Eliminar un elemento de un conjunto\n",
    "#Descripción: Usando el set creado en el ejercicio 2, elimina un elemento especificado por el usuario.\n",
    "\n",
    "provincias3.remove(\"Murcia\")\n",
    "\n"
   ]
  },
  {
   "cell_type": "code",
   "execution_count": 44,
   "metadata": {},
   "outputs": [
    {
     "name": "stdout",
     "output_type": "stream",
     "text": [
      "{'Toledo', 'Cáceres', 'Bizcaia', 'Girona', 'Cadiz', 'Burgos', 'Las Palmas', 'Madrid', 'Valencia'}\n"
     ]
    }
   ],
   "source": [
    "#hacemos print en otro codigo porque en el mismo del ejercicio4 no funciona, da error \n",
    "print(provincias3)"
   ]
  },
  {
   "cell_type": "code",
   "execution_count": 45,
   "metadata": {},
   "outputs": [
    {
     "data": {
      "text/plain": [
       "True"
      ]
     },
     "execution_count": 45,
     "metadata": {},
     "output_type": "execute_result"
    }
   ],
   "source": [
    "#5. Verificar la pertenencia de un elemento en un conjunto\n",
    "#Descripción: Usando el set creado en el ejercicio 2, verifica si un elemento específico está presente en él.\n",
    "\n",
    "\"Girona\" in provincias3\n"
   ]
  },
  {
   "cell_type": "code",
   "execution_count": 46,
   "metadata": {},
   "outputs": [
    {
     "name": "stdout",
     "output_type": "stream",
     "text": [
      "{'Cadiz', 'Toledo', 'Burgos', 'Valencia', 'Cáceres', 'Bizcaia', 'Soria', 'Sevilla', 'Teruel', 'Malaga', 'Girona', 'Madrid', 'Las Palmas'}\n"
     ]
    }
   ],
   "source": [
    "#6. Realizar una unión de conjuntos\n",
    "#Descripción: Dados dos conjuntos, realiza una unión de ellos.\n",
    "\n",
    "provincias4 = { \"Soria\", \"Teruel\", \"Malaga\", \"Sevilla\"}\n",
    "provincias_nuevo = provincias3.union(provincias4)\n",
    "print(provincias_nuevo)\n"
   ]
  },
  {
   "cell_type": "code",
   "execution_count": 47,
   "metadata": {},
   "outputs": [
    {
     "name": "stdout",
     "output_type": "stream",
     "text": [
      "{'Cadiz', 'Sevilla', 'Malaga'}\n"
     ]
    }
   ],
   "source": [
    "#7. Realizar una intersección de conjuntos\n",
    "#Descripción: Usando dos conjuntos de datos definidos en el ejercicio anterior, realiza una intersección de ellos.\n",
    "provincias5 = {\"Almeria\", \"Sevilla\", \"Granada\", \"Cadiz\", \"Jaen\", \"Malaga\", \"Cordoba\", \"Huelva\"}\n",
    "provincias_interseccion = provincias_nuevo.intersection(provincias5)\n",
    "print(provincias_interseccion)\n"
   ]
  },
  {
   "cell_type": "code",
   "execution_count": 48,
   "metadata": {},
   "outputs": [
    {
     "data": {
      "text/plain": [
       "{'Bizcaia',\n",
       " 'Burgos',\n",
       " 'Cáceres',\n",
       " 'Girona',\n",
       " 'Las Palmas',\n",
       " 'Madrid',\n",
       " 'Soria',\n",
       " 'Teruel',\n",
       " 'Toledo',\n",
       " 'Valencia'}"
      ]
     },
     "execution_count": 48,
     "metadata": {},
     "output_type": "execute_result"
    }
   ],
   "source": [
    "#8. Realizar una diferencia de conjuntos\n",
    "#Descripción: Usando dos conjuntos de datos definidos en el ejercicio anterior, realiza una diferencia entre ellos.\n",
    "\n",
    "provincias_nuevo.difference(provincias5)\n"
   ]
  },
  {
   "cell_type": "code",
   "execution_count": 50,
   "metadata": {},
   "outputs": [
    {
     "data": {
      "text/plain": [
       "True"
      ]
     },
     "execution_count": 50,
     "metadata": {},
     "output_type": "execute_result"
    }
   ],
   "source": [
    "#9. Verificar si un conjunto es subconjunto de otro\n",
    "#Descripción: Dados dos conjuntos, verifica si uno es subconjunto del otro.\n",
    "\n",
    "provincias4.issubset(provincias_nuevo)\n"
   ]
  }
 ],
 "metadata": {
  "kernelspec": {
   "display_name": "base",
   "language": "python",
   "name": "python3"
  },
  "language_info": {
   "codemirror_mode": {
    "name": "ipython",
    "version": 3
   },
   "file_extension": ".py",
   "mimetype": "text/x-python",
   "name": "python",
   "nbconvert_exporter": "python",
   "pygments_lexer": "ipython3",
   "version": "3.9.7"
  }
 },
 "nbformat": 4,
 "nbformat_minor": 2
}
